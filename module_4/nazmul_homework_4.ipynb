{
 "cells": [
  {
   "cell_type": "markdown",
   "metadata": {},
   "source": [
    "##### Homework #4\n",
    "##### Nazmul Rabbi\n",
    "##### 10/17/2024"
   ]
  },
  {
   "cell_type": "code",
   "execution_count": 1,
   "metadata": {},
   "outputs": [],
   "source": [
    "# import libraries\n",
    "import pandas as pd\n",
    "from sklearn.model_selection import train_test_split, KFold\n",
    "from sklearn.metrics import roc_auc_score, precision_recall_curve, f1_score\n",
    "from sklearn.feature_extraction import DictVectorizer\n",
    "from sklearn.linear_model import LogisticRegression\n",
    "import matplotlib.pyplot as plt\n",
    "import numpy as np"
   ]
  },
  {
   "cell_type": "code",
   "execution_count": 2,
   "metadata": {},
   "outputs": [
    {
     "data": {
      "text/html": [
       "<div>\n",
       "<style scoped>\n",
       "    .dataframe tbody tr th:only-of-type {\n",
       "        vertical-align: middle;\n",
       "    }\n",
       "\n",
       "    .dataframe tbody tr th {\n",
       "        vertical-align: top;\n",
       "    }\n",
       "\n",
       "    .dataframe thead th {\n",
       "        text-align: right;\n",
       "    }\n",
       "</style>\n",
       "<table border=\"1\" class=\"dataframe\">\n",
       "  <thead>\n",
       "    <tr style=\"text-align: right;\">\n",
       "      <th></th>\n",
       "      <th>age</th>\n",
       "      <th>job</th>\n",
       "      <th>marital</th>\n",
       "      <th>education</th>\n",
       "      <th>default</th>\n",
       "      <th>balance</th>\n",
       "      <th>housing</th>\n",
       "      <th>loan</th>\n",
       "      <th>contact</th>\n",
       "      <th>day</th>\n",
       "      <th>month</th>\n",
       "      <th>duration</th>\n",
       "      <th>campaign</th>\n",
       "      <th>pdays</th>\n",
       "      <th>previous</th>\n",
       "      <th>poutcome</th>\n",
       "      <th>y</th>\n",
       "    </tr>\n",
       "  </thead>\n",
       "  <tbody>\n",
       "    <tr>\n",
       "      <th>0</th>\n",
       "      <td>58</td>\n",
       "      <td>management</td>\n",
       "      <td>married</td>\n",
       "      <td>tertiary</td>\n",
       "      <td>no</td>\n",
       "      <td>2143</td>\n",
       "      <td>yes</td>\n",
       "      <td>no</td>\n",
       "      <td>unknown</td>\n",
       "      <td>5</td>\n",
       "      <td>may</td>\n",
       "      <td>261</td>\n",
       "      <td>1</td>\n",
       "      <td>-1</td>\n",
       "      <td>0</td>\n",
       "      <td>unknown</td>\n",
       "      <td>no</td>\n",
       "    </tr>\n",
       "    <tr>\n",
       "      <th>1</th>\n",
       "      <td>44</td>\n",
       "      <td>technician</td>\n",
       "      <td>single</td>\n",
       "      <td>secondary</td>\n",
       "      <td>no</td>\n",
       "      <td>29</td>\n",
       "      <td>yes</td>\n",
       "      <td>no</td>\n",
       "      <td>unknown</td>\n",
       "      <td>5</td>\n",
       "      <td>may</td>\n",
       "      <td>151</td>\n",
       "      <td>1</td>\n",
       "      <td>-1</td>\n",
       "      <td>0</td>\n",
       "      <td>unknown</td>\n",
       "      <td>no</td>\n",
       "    </tr>\n",
       "    <tr>\n",
       "      <th>2</th>\n",
       "      <td>33</td>\n",
       "      <td>entrepreneur</td>\n",
       "      <td>married</td>\n",
       "      <td>secondary</td>\n",
       "      <td>no</td>\n",
       "      <td>2</td>\n",
       "      <td>yes</td>\n",
       "      <td>yes</td>\n",
       "      <td>unknown</td>\n",
       "      <td>5</td>\n",
       "      <td>may</td>\n",
       "      <td>76</td>\n",
       "      <td>1</td>\n",
       "      <td>-1</td>\n",
       "      <td>0</td>\n",
       "      <td>unknown</td>\n",
       "      <td>no</td>\n",
       "    </tr>\n",
       "    <tr>\n",
       "      <th>3</th>\n",
       "      <td>47</td>\n",
       "      <td>blue-collar</td>\n",
       "      <td>married</td>\n",
       "      <td>unknown</td>\n",
       "      <td>no</td>\n",
       "      <td>1506</td>\n",
       "      <td>yes</td>\n",
       "      <td>no</td>\n",
       "      <td>unknown</td>\n",
       "      <td>5</td>\n",
       "      <td>may</td>\n",
       "      <td>92</td>\n",
       "      <td>1</td>\n",
       "      <td>-1</td>\n",
       "      <td>0</td>\n",
       "      <td>unknown</td>\n",
       "      <td>no</td>\n",
       "    </tr>\n",
       "    <tr>\n",
       "      <th>4</th>\n",
       "      <td>33</td>\n",
       "      <td>unknown</td>\n",
       "      <td>single</td>\n",
       "      <td>unknown</td>\n",
       "      <td>no</td>\n",
       "      <td>1</td>\n",
       "      <td>no</td>\n",
       "      <td>no</td>\n",
       "      <td>unknown</td>\n",
       "      <td>5</td>\n",
       "      <td>may</td>\n",
       "      <td>198</td>\n",
       "      <td>1</td>\n",
       "      <td>-1</td>\n",
       "      <td>0</td>\n",
       "      <td>unknown</td>\n",
       "      <td>no</td>\n",
       "    </tr>\n",
       "  </tbody>\n",
       "</table>\n",
       "</div>"
      ],
      "text/plain": [
       "   age           job  marital  education default  balance housing loan  \\\n",
       "0   58    management  married   tertiary      no     2143     yes   no   \n",
       "1   44    technician   single  secondary      no       29     yes   no   \n",
       "2   33  entrepreneur  married  secondary      no        2     yes  yes   \n",
       "3   47   blue-collar  married    unknown      no     1506     yes   no   \n",
       "4   33       unknown   single    unknown      no        1      no   no   \n",
       "\n",
       "   contact  day month  duration  campaign  pdays  previous poutcome   y  \n",
       "0  unknown    5   may       261         1     -1         0  unknown  no  \n",
       "1  unknown    5   may       151         1     -1         0  unknown  no  \n",
       "2  unknown    5   may        76         1     -1         0  unknown  no  \n",
       "3  unknown    5   may        92         1     -1         0  unknown  no  \n",
       "4  unknown    5   may       198         1     -1         0  unknown  no  "
      ]
     },
     "execution_count": 2,
     "metadata": {},
     "output_type": "execute_result"
    }
   ],
   "source": [
    "# read the data\n",
    "df = pd.read_csv('bank-full.csv', delimiter=';')\n",
    "\n",
    "# see the first 5 rows of the data\n",
    "df.head()"
   ]
  },
  {
   "cell_type": "code",
   "execution_count": 3,
   "metadata": {},
   "outputs": [
    {
     "data": {
      "text/html": [
       "<div>\n",
       "<style scoped>\n",
       "    .dataframe tbody tr th:only-of-type {\n",
       "        vertical-align: middle;\n",
       "    }\n",
       "\n",
       "    .dataframe tbody tr th {\n",
       "        vertical-align: top;\n",
       "    }\n",
       "\n",
       "    .dataframe thead th {\n",
       "        text-align: right;\n",
       "    }\n",
       "</style>\n",
       "<table border=\"1\" class=\"dataframe\">\n",
       "  <thead>\n",
       "    <tr style=\"text-align: right;\">\n",
       "      <th></th>\n",
       "      <th>age</th>\n",
       "      <th>job</th>\n",
       "      <th>marital</th>\n",
       "      <th>education</th>\n",
       "      <th>balance</th>\n",
       "      <th>housing</th>\n",
       "      <th>contact</th>\n",
       "      <th>day</th>\n",
       "      <th>month</th>\n",
       "      <th>duration</th>\n",
       "      <th>campaign</th>\n",
       "      <th>pdays</th>\n",
       "      <th>previous</th>\n",
       "      <th>poutcome</th>\n",
       "      <th>y</th>\n",
       "    </tr>\n",
       "  </thead>\n",
       "  <tbody>\n",
       "    <tr>\n",
       "      <th>0</th>\n",
       "      <td>58</td>\n",
       "      <td>management</td>\n",
       "      <td>married</td>\n",
       "      <td>tertiary</td>\n",
       "      <td>2143</td>\n",
       "      <td>yes</td>\n",
       "      <td>unknown</td>\n",
       "      <td>5</td>\n",
       "      <td>may</td>\n",
       "      <td>261</td>\n",
       "      <td>1</td>\n",
       "      <td>-1</td>\n",
       "      <td>0</td>\n",
       "      <td>unknown</td>\n",
       "      <td>no</td>\n",
       "    </tr>\n",
       "    <tr>\n",
       "      <th>1</th>\n",
       "      <td>44</td>\n",
       "      <td>technician</td>\n",
       "      <td>single</td>\n",
       "      <td>secondary</td>\n",
       "      <td>29</td>\n",
       "      <td>yes</td>\n",
       "      <td>unknown</td>\n",
       "      <td>5</td>\n",
       "      <td>may</td>\n",
       "      <td>151</td>\n",
       "      <td>1</td>\n",
       "      <td>-1</td>\n",
       "      <td>0</td>\n",
       "      <td>unknown</td>\n",
       "      <td>no</td>\n",
       "    </tr>\n",
       "    <tr>\n",
       "      <th>2</th>\n",
       "      <td>33</td>\n",
       "      <td>entrepreneur</td>\n",
       "      <td>married</td>\n",
       "      <td>secondary</td>\n",
       "      <td>2</td>\n",
       "      <td>yes</td>\n",
       "      <td>unknown</td>\n",
       "      <td>5</td>\n",
       "      <td>may</td>\n",
       "      <td>76</td>\n",
       "      <td>1</td>\n",
       "      <td>-1</td>\n",
       "      <td>0</td>\n",
       "      <td>unknown</td>\n",
       "      <td>no</td>\n",
       "    </tr>\n",
       "    <tr>\n",
       "      <th>3</th>\n",
       "      <td>47</td>\n",
       "      <td>blue-collar</td>\n",
       "      <td>married</td>\n",
       "      <td>unknown</td>\n",
       "      <td>1506</td>\n",
       "      <td>yes</td>\n",
       "      <td>unknown</td>\n",
       "      <td>5</td>\n",
       "      <td>may</td>\n",
       "      <td>92</td>\n",
       "      <td>1</td>\n",
       "      <td>-1</td>\n",
       "      <td>0</td>\n",
       "      <td>unknown</td>\n",
       "      <td>no</td>\n",
       "    </tr>\n",
       "    <tr>\n",
       "      <th>4</th>\n",
       "      <td>33</td>\n",
       "      <td>unknown</td>\n",
       "      <td>single</td>\n",
       "      <td>unknown</td>\n",
       "      <td>1</td>\n",
       "      <td>no</td>\n",
       "      <td>unknown</td>\n",
       "      <td>5</td>\n",
       "      <td>may</td>\n",
       "      <td>198</td>\n",
       "      <td>1</td>\n",
       "      <td>-1</td>\n",
       "      <td>0</td>\n",
       "      <td>unknown</td>\n",
       "      <td>no</td>\n",
       "    </tr>\n",
       "  </tbody>\n",
       "</table>\n",
       "</div>"
      ],
      "text/plain": [
       "   age           job  marital  education  balance housing  contact  day month  \\\n",
       "0   58    management  married   tertiary     2143     yes  unknown    5   may   \n",
       "1   44    technician   single  secondary       29     yes  unknown    5   may   \n",
       "2   33  entrepreneur  married  secondary        2     yes  unknown    5   may   \n",
       "3   47   blue-collar  married    unknown     1506     yes  unknown    5   may   \n",
       "4   33       unknown   single    unknown        1      no  unknown    5   may   \n",
       "\n",
       "   duration  campaign  pdays  previous poutcome   y  \n",
       "0       261         1     -1         0  unknown  no  \n",
       "1       151         1     -1         0  unknown  no  \n",
       "2        76         1     -1         0  unknown  no  \n",
       "3        92         1     -1         0  unknown  no  \n",
       "4       198         1     -1         0  unknown  no  "
      ]
     },
     "execution_count": 3,
     "metadata": {},
     "output_type": "execute_result"
    }
   ],
   "source": [
    "# drop the columns 'default' and 'loan'\n",
    "df = df.drop(['default', 'loan'], axis=1)\n",
    "\n",
    "# see the first 5 rows of the data\n",
    "df.head()"
   ]
  },
  {
   "cell_type": "code",
   "execution_count": 4,
   "metadata": {},
   "outputs": [],
   "source": [
    "# convert target variable 'y' to binary\n",
    "df['y'] = df['y'].map({'no': 0, 'yes' : 1})"
   ]
  },
  {
   "cell_type": "code",
   "execution_count": 5,
   "metadata": {},
   "outputs": [],
   "source": [
    "# split the data into train, validation and test sets\n",
    "train_data, temp_data = train_test_split(df, test_size=0.4, random_state=1)\n",
    "val_data, test_data = train_test_split(temp_data, test_size=0.5, random_state=1)\n",
    "\n",
    "# drop and sepearte the target variable as well as reset the index\n",
    "X_train = train_data.drop(columns=['y']).reset_index(drop=True)\n",
    "y_train = train_data['y'].reset_index(drop=True)\n",
    "X_val = val_data.drop(columns=['y']).reset_index(drop=True)\n",
    "y_val = val_data['y'].reset_index(drop=True)\n",
    "X_test = test_data.drop(columns=['y']).reset_index(drop=True)\n",
    "y_test = test_data['y'].reset_index(drop=True)"
   ]
  },
  {
   "cell_type": "code",
   "execution_count": 6,
   "metadata": {},
   "outputs": [
    {
     "data": {
      "text/plain": [
       "{'age': np.float64(0.5125105881599707),\n",
       " 'balance': np.float64(0.5916931412945473),\n",
       " 'day': np.float64(0.5291275984648961),\n",
       " 'duration': np.float64(0.8128648066681694),\n",
       " 'campaign': np.float64(0.5742447701740003),\n",
       " 'pdays': np.float64(0.5897967289320412),\n",
       " 'previous': np.float64(0.5986704105715122)}"
      ]
     },
     "execution_count": 6,
     "metadata": {},
     "output_type": "execute_result"
    }
   ],
   "source": [
    "numerical_columns = ['age', 'balance', 'day', 'duration', 'campaign', 'pdays', 'previous']\n",
    "roc_scores = {}\n",
    "\n",
    "for col in numerical_columns:\n",
    "    score = roc_auc_score(y_train, X_train[col])\n",
    "    if score < 0.5: score = roc_auc_score(y_train, -X_train[col])\n",
    "    roc_scores[col] = score \n",
    "\n",
    "roc_scores"
   ]
  },
  {
   "cell_type": "code",
   "execution_count": 7,
   "metadata": {},
   "outputs": [
    {
     "name": "stdout",
     "output_type": "stream",
     "text": [
      "Q1: Highest feature AUC is duration\n"
     ]
    }
   ],
   "source": [
    "print(\"Q1: Highest feature AUC is\" , max(roc_scores, key=roc_scores.get))"
   ]
  },
  {
   "cell_type": "code",
   "execution_count": 8,
   "metadata": {},
   "outputs": [],
   "source": [
    "# convert the data into dictionary\n",
    "train_dict = X_train.to_dict(orient='records')\n",
    "\n",
    "# initialize DictVectorizer\n",
    "dv = DictVectorizer(sparse=False)\n",
    "X_train_encoded = dv.fit_transform(train_dict)\n",
    "\n",
    "# train the model using the training data\n",
    "model = LogisticRegression(solver='liblinear', C=1.0, max_iter=1000)\n",
    "model.fit(X_train_encoded, y_train)\n",
    "\n",
    "# prepare validation data\n",
    "val_dict = X_val.to_dict(orient='records')\n",
    "X_val_encoded = dv.transform(val_dict)\n",
    "\n",
    "# predict on the validation data\n",
    "y_pred = model.predict_proba(X_val_encoded)[:, 1] # probability of the positive class\n",
    "\n",
    "# calculate the roc auc score\n",
    "auc_score = roc_auc_score(y_val, y_pred)"
   ]
  },
  {
   "cell_type": "code",
   "execution_count": 9,
   "metadata": {},
   "outputs": [
    {
     "name": "stdout",
     "output_type": "stream",
     "text": [
      "Q2: Validation AUC is 0.900\n"
     ]
    }
   ],
   "source": [
    "print(f\"Q2: Validation AUC is {auc_score:.3f}\")"
   ]
  },
  {
   "cell_type": "code",
   "execution_count": 10,
   "metadata": {},
   "outputs": [
    {
     "data": {
      "image/png": "[encoded data removed]",
      "text/plain": [
       "<Figure size 640x480 with 1 Axes>"
      ]
     },
     "metadata": {},
     "output_type": "display_data"
    }
   ],
   "source": [
    "# calculate the precision and recall\n",
    "precision, recall, threshold = precision_recall_curve(y_val, y_pred)\n",
    "\n",
    "# plot the precision and recall vs threshold\n",
    "plt.plot(threshold, precision[:-1], label='Precision')\n",
    "plt.plot(threshold, recall[:-1], label='Recall')\n",
    "plt.xlabel('Threshold')\n",
    "plt.ylabel('Score')\n",
    "plt.legend()\n",
    "plt.title('Precision and Recall vs Threshold')\n",
    "plt.grid()\n",
    "plt.show()\n",
    "\n",
    "# find the threshold for which precision and recall intersect\n",
    "intersection_idx = np.argmin(np.abs(precision - recall))\n",
    "intersection_threshold = threshold[intersection_idx]"
   ]
  },
  {
   "cell_type": "code",
   "execution_count": 11,
   "metadata": {},
   "outputs": [
    {
     "name": "stdout",
     "output_type": "stream",
     "text": [
      "Q3: Precision & Recall intersect at threshold 0.289\n"
     ]
    }
   ],
   "source": [
    "print(f\"Q3: Precision & Recall intersect at threshold {intersection_threshold:.3f}\")"
   ]
  },
  {
   "cell_type": "code",
   "execution_count": 12,
   "metadata": {},
   "outputs": [],
   "source": [
    "# generate the threshold list\n",
    "threshold_list = np.arange(0, 1, 0.01)\n",
    "f1_scores = []\n",
    "\n",
    "# calculate the f1 score for each threshold\n",
    "for threshold in threshold_list:\n",
    "    y_pred_thresh = (y_pred >= threshold).astype(int)\n",
    "    f1 = f1_score(y_val, y_pred_thresh)\n",
    "    f1_scores.append(f1)\n",
    "\n",
    "# find the threshold for which f1 score is maximum\n",
    "max_f1_idx = np.argmax(f1_scores)\n",
    "max_f1_threshold = threshold_list[max_f1_idx]\n"
   ]
  },
  {
   "cell_type": "code",
   "execution_count": 13,
   "metadata": {},
   "outputs": [
    {
     "name": "stdout",
     "output_type": "stream",
     "text": [
      "Q4: Maximal F1 Threshold is 0.2\n"
     ]
    }
   ],
   "source": [
    "print(\"Q4: Maximal F1 Threshold is\", max_f1_threshold)"
   ]
  },
  {
   "cell_type": "code",
   "execution_count": 14,
   "metadata": {},
   "outputs": [],
   "source": [
    "kf = KFold(n_splits=5, shuffle=True, random_state=1)\n",
    "auc_scores = []\n",
    "\n",
    "for train_idx, val_idx in kf.split(train_data):\n",
    "    train_fold = train_data.iloc[train_idx]\n",
    "    val_fold = train_data.iloc[val_idx]\n",
    "\n",
    "    # Use preprocessed features from previous steps\n",
    "    X_train_fold_data = train_fold.drop(columns=['y']).reset_index(drop=True)\n",
    "    y_train_fold_data = train_fold['y'].reset_index(drop=True)\n",
    "    X_val_fold_data = val_fold.drop(columns=['y']).reset_index(drop=True)\n",
    "    y_val_fold_data = val_fold['y'].reset_index(drop=True)\n",
    "\n",
    "    # Transform features using already fitted DictVectorizer\n",
    "    train_dict = X_train_fold_data.to_dict(orient='records')\n",
    "    val_dict = X_val_fold_data.to_dict(orient='records')\n",
    "    X_train_encoded = dv.transform(train_dict)\n",
    "    X_val_encoded = dv.transform(val_dict)\n",
    "\n",
    "    # Fit the model using the same logistic regression object\n",
    "    model.fit(X_train_encoded, y_train_fold_data)\n",
    "    \n",
    "    # Predict probabilities\n",
    "    y_pred = model.predict_proba(X_val_encoded)[:, 1]\n",
    "    \n",
    "    # Calculate AUC score\n",
    "    auc = roc_auc_score(y_val_fold_data, y_pred)\n",
    "    auc_scores.append(auc)\n",
    "\n",
    "# Standard deviation of AUC scores\n",
    "auc_std = np.std(auc_scores)"
   ]
  },
  {
   "cell_type": "code",
   "execution_count": 15,
   "metadata": {},
   "outputs": [
    {
     "name": "stdout",
     "output_type": "stream",
     "text": [
      "Q5: Standard Deviation for 5 fold CV 0.004\n"
     ]
    }
   ],
   "source": [
    "print(f\"Q5: Standard Deviation for 5 fold CV {auc_std:.3f}\")"
   ]
  },
  {
   "cell_type": "code",
   "execution_count": 16,
   "metadata": {},
   "outputs": [
    {
     "name": "stdout",
     "output_type": "stream",
     "text": [
      "Mean AUC scores for each C: [0.6960150133959339, 0.8540734580041697, 0.9077493857605594]\n",
      "Standard deviation of AUC scores for each C: [0.007741748794784924, 0.005574503602056373, 0.004069901272477149]\n"
     ]
    }
   ],
   "source": [
    "C_values = [0.000001, 0.001, 1]\n",
    "kf = KFold(n_splits=5, shuffle=True, random_state=1)\n",
    "mean_scores = []\n",
    "std_scores = []\n",
    "\n",
    "for C in C_values:\n",
    "    auc_scores_C = []\n",
    "    for train_idx, val_idx in kf.split(train_data):\n",
    "        train_fold = train_data.iloc[train_idx]\n",
    "        val_fold = train_data.iloc[val_idx]\n",
    "\n",
    "        # Use preprocessed features from previous steps\n",
    "        X_train_fold_data = train_fold.drop(columns=['y']).reset_index(drop=True)\n",
    "        y_train_fold_data = train_fold['y'].reset_index(drop=True)\n",
    "        X_val_fold_data = val_fold.drop(columns=['y']).reset_index(drop=True)\n",
    "        y_val_fold_data = val_fold['y'].reset_index(drop=True)\n",
    "\n",
    "        # Transform features using already fitted DictVectorizer\n",
    "        train_dict = X_train_fold_data.to_dict(orient='records')\n",
    "        val_dict = X_val_fold_data.to_dict(orient='records')\n",
    "        X_train_encoded = dv.transform(train_dict)\n",
    "        X_val_encoded = dv.transform(val_dict)\n",
    "\n",
    "        # Logistic Regression model with given C\n",
    "        model = LogisticRegression(solver='liblinear', C=C, max_iter=1000)\n",
    "        model.fit(X_train_encoded, y_train_fold_data)\n",
    "        \n",
    "        # Predict probabilities\n",
    "        y_pred = model.predict_proba(X_val_encoded)[:, 1]\n",
    "        \n",
    "        # Calculate AUC score\n",
    "        auc = roc_auc_score(y_val_fold_data, y_pred)\n",
    "        auc_scores_C.append(auc)\n",
    "\n",
    "    # Calculate mean and standard deviation for current C\n",
    "    mean_score = np.mean(auc_scores_C)\n",
    "    std_score = np.std(auc_scores_C)\n",
    "    mean_scores.append(float(mean_score))\n",
    "    std_scores.append(float(std_score))\n",
    "\n",
    "# Find the best C value \n",
    "best_idx = np.argmax(mean_scores)\n",
    "best_C = C_values[best_idx]\n",
    "\n",
    "print(f\"Mean AUC scores for each C: {mean_scores}\")\n",
    "print(f\"Standard deviation of AUC scores for each C: {std_scores}\")"
   ]
  },
  {
   "cell_type": "code",
   "execution_count": 17,
   "metadata": {},
   "outputs": [
    {
     "name": "stdout",
     "output_type": "stream",
     "text": [
      "Q6: Best C value is 1\n"
     ]
    }
   ],
   "source": [
    "print(f\"Q6: Best C value is {C_values[best_idx]}\")"
   ]
  }
 ],
 "metadata": {
  "kernelspec": {
   "display_name": "Python 3",
   "language": "python",
   "name": "python3"
  },
  "language_info": {
   "codemirror_mode": {
    "name": "ipython",
    "version": 3
   },
   "file_extension": ".py",
   "mimetype": "text/x-python",
   "name": "python",
   "nbconvert_exporter": "python",
   "pygments_lexer": "ipython3",
   "version": "3.12.1"
  }
 },
 "nbformat": 4,
 "nbformat_minor": 2
}
