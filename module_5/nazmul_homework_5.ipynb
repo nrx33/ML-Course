{
 "cells": [
  {
   "cell_type": "markdown",
   "metadata": {},
   "source": [
    "##### Homework #5\n",
    "##### Nazmul Rabbi\n",
    "##### 10/25/2024"
   ]
  },
  {
   "cell_type": "code",
   "execution_count": 1,
   "metadata": {},
   "outputs": [],
   "source": [
    "# import libraries\n",
    "import pickle\n",
    "import requests"
   ]
  },
  {
   "cell_type": "code",
   "execution_count": 2,
   "metadata": {},
   "outputs": [
    {
     "name": "stdout",
     "output_type": "stream",
     "text": [
      "\u001b[1mpipenv\u001b[0m, version 2024.0.1\n"
     ]
    }
   ],
   "source": [
    "! pipenv --version"
   ]
  },
  {
   "cell_type": "code",
   "execution_count": 3,
   "metadata": {},
   "outputs": [
    {
     "name": "stdout",
     "output_type": "stream",
     "text": [
      "Q1: Version of pipenv 2024.0.1\n"
     ]
    }
   ],
   "source": [
    "# Print the version number\n",
    "print(\"Q1: Version of pipenv 2024.0.1\")"
   ]
  },
  {
   "cell_type": "code",
   "execution_count": 4,
   "metadata": {},
   "outputs": [
    {
     "name": "stdout",
     "output_type": "stream",
     "text": [
      "Q2: The first hash of scikit learn is\n",
      " sha256:03b6158efa3faaf1feea3faa884c840ebd61b6484167c711548fce208ea09445\n"
     ]
    }
   ],
   "source": [
    "hash = \"sha256:03b6158efa3faaf1feea3faa884c840ebd61b6484167c711548fce208ea09445\"\n",
    "print(\"Q2: The first hash of scikit learn is\\n\", hash)"
   ]
  },
  {
   "cell_type": "code",
   "execution_count": 5,
   "metadata": {},
   "outputs": [],
   "source": [
    "# load the dictvectorizer\n",
    "with open('dv.bin', 'rb') as f_in:\n",
    "    dv = pickle.load(f_in)\n",
    "\n",
    "# load the model\n",
    "with open('model1.bin', 'rb') as f_in:\n",
    "    model = pickle.load(f_in)"
   ]
  },
  {
   "cell_type": "code",
   "execution_count": 6,
   "metadata": {},
   "outputs": [
    {
     "name": "stdout",
     "output_type": "stream",
     "text": [
      "Q3: Probability of subscription 0.759\n"
     ]
    }
   ],
   "source": [
    "# pass in the input\n",
    "input = {\"job\": \"management\", \"duration\": 400, \"poutcome\": \"success\"}\n",
    "\n",
    "# transform the input\n",
    "X = dv.transform([input])\n",
    "\n",
    "# predict the probability\n",
    "y_pred = model.predict_proba(X)[0, 1]\n",
    "\n",
    "print(f\"Q3: Probability of subscription {y_pred:.3f}\")"
   ]
  },
  {
   "cell_type": "code",
   "execution_count": 7,
   "metadata": {},
   "outputs": [
    {
     "name": "stdout",
     "output_type": "stream",
     "text": [
      "Q4: Probability of subscription (Flask) 0.335\n"
     ]
    }
   ],
   "source": [
    "# URL of your Flask app running with Gunicorn\n",
    "url = \"http://127.0.0.1:8001/predict\"\n",
    "\n",
    "# Client data to send for prediction\n",
    "client = {\n",
    "    \"job\": \"student\",\n",
    "    \"duration\": 280,\n",
    "    \"poutcome\": \"failure\"\n",
    "}\n",
    "\n",
    "# Sending a POST request to the server\n",
    "response = requests.post(url, json=client).json()\n",
    "\n",
    "print(\"Q4: Probability of subscription (Flask)\", response.get('probability_of_subscription'))"
   ]
  },
  {
   "cell_type": "code",
   "execution_count": 8,
   "metadata": {},
   "outputs": [
    {
     "name": "stdout",
     "output_type": "stream",
     "text": [
      "REPOSITORY              TAG           IMAGE ID       CREATED          SIZE\n",
      "my-flask-app            latest        cf300ababf1e   16 minutes ago   641MB\n",
      "<none>                  <none>        8a75b03983f2   19 minutes ago   641MB\n",
      "svizor/zoomcamp-model   3.11.5-slim   975e7bdca086   6 days ago       130MB\n"
     ]
    }
   ],
   "source": [
    "!docker images"
   ]
  },
  {
   "cell_type": "code",
   "execution_count": 9,
   "metadata": {},
   "outputs": [
    {
     "name": "stdout",
     "output_type": "stream",
     "text": [
      "Q5: Size of base image 130MB\n"
     ]
    }
   ],
   "source": [
    "print(\"Q5: Size of base image 130MB\")"
   ]
  },
  {
   "cell_type": "code",
   "execution_count": 10,
   "metadata": {},
   "outputs": [
    {
     "name": "stdout",
     "output_type": "stream",
     "text": [
      "Q6: Probability of subscription (Docker) 0.759\n"
     ]
    }
   ],
   "source": [
    "# client data to send for prediction\n",
    "client = {\"job\": \"management\", \"duration\": 400, \"poutcome\": \"success\"}\n",
    "\n",
    "# Sending a POST request to the server\n",
    "response = requests.post(url, json=client).json()\n",
    "\n",
    "print(\"Q6: Probability of subscription (Docker)\", response.get('probability_of_subscription'))"
   ]
  }
 ],
 "metadata": {
  "kernelspec": {
   "display_name": "module_5-nybs7t6Q",
   "language": "python",
   "name": "python3"
  },
  "language_info": {
   "codemirror_mode": {
    "name": "ipython",
    "version": 3
   },
   "file_extension": ".py",
   "mimetype": "text/x-python",
   "name": "python",
   "nbconvert_exporter": "python",
   "pygments_lexer": "ipython3",
   "version": "3.12.1"
  }
 },
 "nbformat": 4,
 "nbformat_minor": 2
}
